{
 "metadata": {
  "language_info": {
   "codemirror_mode": {
    "name": "ipython",
    "version": 3
   },
   "file_extension": ".py",
   "mimetype": "text/x-python",
   "name": "python",
   "nbconvert_exporter": "python",
   "pygments_lexer": "ipython3",
   "version": 3
  },
  "orig_nbformat": 2
 },
 "nbformat": 4,
 "nbformat_minor": 2,
 "cells": [
  {
   "cell_type": "code",
   "execution_count": null,
   "metadata": {},
   "outputs": [],
   "source": [
    "import pandas as pd\n",
    "import numpy as np\n",
    "import matplotlib.pyplot as plt\n",
    "%matplotlib inline\n",
    "import seaborn as sns"
   ]
  },
  {
   "cell_type": "code",
   "execution_count": null,
   "metadata": {},
   "outputs": [],
   "source": [
    "\n",
    "URL=\"https://www.gstatic.com/covid19/mobility/Global_Mobility_Report.csv\"\n",
    "#df=pd.read_csv(URL, low_memory=False) \n",
    "df=pd.read_csv(URL, low_memory=False)\n"
   ]
  },
  {
   "cell_type": "code",
   "execution_count": null,
   "metadata": {},
   "outputs": [],
   "source": [
    "df=df[df.country_region_code=='MX']\n",
    "df['date'] =  pd.to_datetime(df['date'])\n",
    "df.set_index(pd.DatetimeIndex(df['date']), inplace=True)\n",
    "df.head()"
   ]
  },
  {
   "cell_type": "code",
   "execution_count": null,
   "metadata": {},
   "outputs": [],
   "source": [
    "df.shape"
   ]
  },
  {
   "cell_type": "code",
   "execution_count": null,
   "metadata": {},
   "outputs": [],
   "source": [
    "df.info()\n",
    "\n",
    "df.isnull().sum()"
   ]
  },
  {
   "cell_type": "code",
   "execution_count": null,
   "metadata": {},
   "outputs": [],
   "source": [
    "df.drop('sub_region_2',1,inplace=True)\n"
   ]
  },
  {
   "cell_type": "code",
   "execution_count": null,
   "metadata": {},
   "outputs": [],
   "source": [
    "null_columns=df.columns[df.isnull().any()]\n",
    "print(df[df.isnull().any(axis=1)][null_columns].head(63)) #The null values\n",
    "\n",
    "list(df)"
   ]
  },
  {
   "cell_type": "code",
   "execution_count": null,
   "metadata": {},
   "outputs": [],
   "source": [
    "df.rename(columns={'sub_region_1': 'Province',\n",
    "                   'retail_and_recreation_percent_change_from_baseline': 'Retail_and_Recreation', \n",
    "                   'grocery_and_pharmacy_percent_change_from_baseline':'Grocery_and_Pharmacy', \n",
    "                   'parks_percent_change_from_baseline':'Parks',\n",
    "                   'transit_stations_percent_change_from_baseline': 'Transit_Stations',\n",
    "                   'workplaces_percent_change_from_baseline':'Workplaces',\n",
    "                   'residential_percent_change_from_baseline': 'Residences',\n",
    "                   'date':'Date'},inplace=True)\n",
    "df=df[['Date',\n",
    "       'Province',\n",
    " 'Retail_and_Recreation',\n",
    " 'Grocery_and_Pharmacy',\n",
    " 'Parks',\n",
    " 'Transit_Stations',\n",
    " 'Workplaces',\n",
    " 'Residences']]"
   ]
  },
  {
   "cell_type": "code",
   "execution_count": null,
   "metadata": {},
   "outputs": [],
   "source": [
    "df_Jal = df[df.Province == 'Jalisco']\n",
    "df_Jal_W = df_Jal.resample(\"W\").sum()\n",
    "fig,ax = plt.subplots()\n",
    "ax.plot(df_Jal_W.index, df_Jal_W['Retail_and_Recreation'], label=\"Tiendas y Recreacion\")\n",
    "ax.plot(df_Jal_W.index, df_Jal_W['Grocery_and_Pharmacy'], label=\"Supermecado y farmacias\")\n",
    "ax.plot(df_Jal_W.index, df_Jal_W['Parks'], label=\"Parques\")\n",
    "ax.plot(df_Jal_W.index, df_Jal_W['Transit_Stations'], label=\"Estaciones de transito\")\n",
    "ax.plot(df_Jal_W.index, df_Jal_W['Workplaces'], label=\"Areas de trabajo\")\n",
    "ax.plot(df_Jal_W.index, df_Jal_W['Residences'], label=\"Residencias\")\n",
    "ax.set_ylabel(\"Movilidad\")\n",
    "ax.set_xlabel(\"Tiempo\")\n",
    "ax.set_title(\"Movilidad en Jalisco 2020\")\n",
    "plt.xticks(rotation='vertical')\n",
    "ax.legend(loc=\"lower left\", bbox_to_anchor=(1,0)) \n",
    "plt.show()"
   ]
  }
 ]
}